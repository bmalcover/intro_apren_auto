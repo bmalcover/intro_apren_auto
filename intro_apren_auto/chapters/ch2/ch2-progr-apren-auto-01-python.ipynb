{
 "cells": [
  {
   "cell_type": "markdown",
   "metadata": {},
   "source": [
    "# Introducción al Aprendizaje Automático"
   ]
  },
  {
   "cell_type": "markdown",
   "metadata": {},
   "source": [
    "## Qué es el aprendizaje automático ?"
   ]
  },
  {
   "cell_type": "markdown",
   "metadata": {},
   "source": [
    "En el diccionario[<sup>1</sup>](#fn1) es posible encontrar dos definiciones formales de la Inteligencia Artificial:\n",
    "\n",
    "> Una rama de la Ciencia de la Computación que intenta simular el comportamiento inteligente en los ordenadores.\n",
    "\n",
    "y\n",
    "\n",
    "> La capacidad de una máquina para imitar el comportamiento inteligente de los humanos."
   ]
  },
  {
   "cell_type": "markdown",
   "metadata": {},
   "source": [
    "Hoy en día, estamos aún en la primera definición, donde ya es posible en determinados problemas computacionales, alcanzar y mejorar el rendimiento de las personas. Sin embargo, aún queda mucho camino para que una máquina generalice nuestro comportamiento inteligente en diferentes problemas. Por tanto, comencemos por avanzar en la primera definición.\n",
    "\n",
    "El *Computer Curricula* de la ACM[<sup>2</sup>](#fn2) y el IEEE define el estudio de la inteligencia artificial (IA) como el estudio de soluciones para problemas que son difíciles o poco prácticos de resolver con los métodos tradicionales. Así, es interesante como el estudio de Inteligencia Artificial prepara a un estudiante de Ingeniería Informática para determinar cuándo un enfoque basado en las técnicas de IA es apropiado para un problema dado, para su representación, implementación y evaluación."
   ]
  },
  {
   "cell_type": "markdown",
   "metadata": {},
   "source": [
    "## Dónde se aplica ?"
   ]
  },
  {
   "cell_type": "markdown",
   "metadata": {},
   "source": [
    "Podemos ver entonces como la Inteligencia Artificial está compuesta por un conjunto de áreas que proporcionan numerosos métodos de resolución de problemas:\n",
    "\n",
    "* Agentes inteligentes.\n",
    "* Estrategias de búsqueda.\n",
    "* Representación del conocimiento.\n",
    "* Aprendizaje automático.\n",
    "* Razonamiento con incertidumbre.\n",
    "* Procesamiento del lenguaje natural.\n",
    "* Robótica.\n",
    "* Visión por computador."
   ]
  },
  {
   "cell_type": "markdown",
   "metadata": {},
   "source": [
    "Las tres últimas áreas incorporan mecanismos de percepción a las máquinas para captar la información del mundo real, y pueden verse como parte necesaria para que una máquina tenga un comportamiento inteligente. Las tres primeras áreas representan el enfoque tradicional de la inteligencia artificial, donde el paradigma es definir las reglas que resuelven el problema. \n",
    "Sin embargo, el Aprendizaje Automático, de origen anterior a la aproximación tradicional, representa el paradigma donde se busca extraer las reglas que resuelven el problema a partir de la información disponible: **los datos**."
   ]
  },
  {
   "cell_type": "markdown",
   "metadata": {},
   "source": [
    "## Auge reciente del Aprendizaje Automático"
   ]
  },
  {
   "cell_type": "markdown",
   "metadata": {},
   "source": [
    "En los últimos años, el Aprendizaje Automático ha sufrido un fuerte impulso en las empresas debido a la coincidencia de tres factores:\n",
    "\n",
    "1. la mejora de las infraestructuras de computación\n",
    "1. la gran cantidad de datos disponibles (“big data”)\n",
    "1. el avance de la investigación\n"
   ]
  },
  {
   "cell_type": "markdown",
   "metadata": {},
   "source": [
    "![ch1-factors-ai-now](img/ch1-factors-ai-now.png)\n",
    "\n",
    "[Fuente](https://medium.com/redpoint-ventures/three-things-you-need-to-know-about-machine-learning-99e6f5815aee)"
   ]
  },
  {
   "cell_type": "markdown",
   "metadata": {},
   "source": [
    "Estos tres factores han impulsado el **Aprendizaje Automático** a múltiples aplicaciones prácticas. De hecho, los modelos de Aprendizaje Automático están integrados en la infraestructura de muchos motores de búsqueda de productos comerciales, en aplicaciones industriales, diagnósticos médicos, aplicaciones de reconocimiento de voz o de objetos, el control de robots o en los videojuegos."
   ]
  },
  {
   "cell_type": "markdown",
   "metadata": {},
   "source": [
    "## Referencias"
   ]
  },
  {
   "cell_type": "markdown",
   "metadata": {},
   "source": [
    "<span id=\"fn1\"> </span>\n",
    "[1. Merriam Webster Dictionary](https://www.merriam-webster.com/dictionary/artificial%20intelligence)\n",
    "\n",
    "<span id=\"fn2\"> </span>\n",
    "[2. ACM](https://www.acm.org/education/curricula-recommendations)"
   ]
  }
 ],
 "metadata": {
  "kernelspec": {
   "display_name": "Python 3",
   "language": "python",
   "name": "python3"
  },
  "language_info": {
   "codemirror_mode": {
    "name": "ipython",
    "version": 3
   },
   "file_extension": ".py",
   "mimetype": "text/x-python",
   "name": "python",
   "nbconvert_exporter": "python",
   "pygments_lexer": "ipython3",
   "version": "3.7.3"
  },
  "widgets": {
   "application/vnd.jupyter.widget-state+json": {
    "state": {},
    "version_major": 2,
    "version_minor": 0
   }
  }
 },
 "nbformat": 4,
 "nbformat_minor": 4
}
