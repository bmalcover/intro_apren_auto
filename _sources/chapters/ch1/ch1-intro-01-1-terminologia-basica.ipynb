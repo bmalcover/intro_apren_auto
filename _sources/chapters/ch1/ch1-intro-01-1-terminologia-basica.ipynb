{
 "cells": [
  {
   "cell_type": "markdown",
   "metadata": {},
   "source": [
    "# Terminología básica"
   ]
  },
  {
   "cell_type": "markdown",
   "metadata": {},
   "source": [
    "Una de las definiciones formales más aceptadas del Aprendizaje Automático es la de Tom Mitchell[<sup>1</sup>](#fn1) de la Carnegie Mellon University (CMU):\n",
    "\n",
    "\n",
    "> A computer program is said to learn from experience E with respect to some task T and some performance measure P, if its performance on T, as measured by P, improves with experience E.\n",
    "\n",
    "o en castellano:\n",
    "\n",
    "> “Un programa computacional que aprende de la experiencia E para resolver una determinada tarea T, si su rendimiento R para resolver la tarea T mejora a través de la experiencia E”\n"
   ]
  },
  {
   "cell_type": "markdown",
   "metadata": {},
   "source": [
    "En primer lugar, tenemos que tener clara la tarea $T$ (problema) a resolver. Por ejemplo, imaginemos que tenemos que hacer un programa que sea capaz de reconocer el genero de una persona a través de su fotografía, es decir, que, dada la imagen de una persona, nuestro programa devuelva como resultado si es `hombre` o `mujer`.\n",
    "\n",
    "¿Cuál sería la experiencia $E$ en esta tarea? Pues un conjunto de imágenes etiquetadas con el género de cada persona. Esta experiencia se define formalmente como dataset. Una vez tenemos los datos preparados, ya podemos realizar el programa que consistirá en la implementación de alguno de los modelos conocidos de Aprendizaje Automático.\n",
    "\n",
    "Este programa ha de ser capaz de predecir el género de una persona cuando reciba una imagen de entrada, y para realizar dicha predicción, ha de realizar previamente el aprendizaje para resolver el problema a partir de los datos. El aprendizaje consistirá en ir mostrando diferentes imágenes e ir ajustando los parámetros de nuestro modelo con el objetivo de minimizar el error de la predicción, es decir, los aciertos de nuestro modelo respecto a las etiquetas reales del dataset.\n",
    "\n",
    "En este ejemplo, hemos visto 3 términos básicos de los métodos de aprendizaje automático: **dataset**, **predicción** y **aprendizaje**. El **dataset**, o conjunto de datos, nos define el problema a resolver, y es necesario para poder realizar el aprendizaje de un modelo de Aprendizaje Automático. El **aprendizaje**, o entrenamiento, consiste en establecer los parámetros de un modelo de Aprendizaje Automático para que resuelvan el problema definido por los datos, y consiste en un algoritmo que, generalmente, es particular para cada uno de los modelos."
   ]
  },
  {
   "cell_type": "markdown",
   "metadata": {},
   "source": [
    "## Tipos de aprendizaje automático"
   ]
  },
  {
   "cell_type": "markdown",
   "metadata": {},
   "source": [
    "La división más usada entre los modelos de Aprendizaje Automático depende del tipo de algoritmo."
   ]
  },
  {
   "cell_type": "markdown",
   "metadata": {},
   "source": [
    "### Aprendizaje supervisado\n",
    "\n",
    "El dataset está compuesto por **pares** de entrenamiento que consisten en entrada y salida deseada (etiqueta). Es como si tuviéramos un **maestro** que para cada muestra o ejemplo nos dice cuál tendría que ser la salida. Es el caso del ejemplo anterior de reconocimiento de género. Donde la entrada sería la imagen de una persona y la salida deseada sería el género real de la persona. Casi la totalidad de los casos de uso en la industria a día de hoy pertenecen a este tipo de aprendizaje."
   ]
  },
  {
   "cell_type": "markdown",
   "metadata": {},
   "source": [
    "### Aprendizaje no supervisado\n",
    "\n",
    "En este caso, el dataset está compuesto sólo por las posibles entradas del modelo, que ha de ser capaz de agrupar los datos según la especificación del problema. En el anterior ejemplo, el modelo tendría que aprender a diferenciar los géneros por las características faciales que mejor discriminan el género."
   ]
  },
  {
   "cell_type": "markdown",
   "metadata": {},
   "source": [
    "## Predicción"
   ]
  },
  {
   "cell_type": "markdown",
   "metadata": {},
   "source": [
    "Una vez finalizado el aprendizaje de un modelo a partir del dataset, ya sería posible usarlo mediante el algoritmo de predicción.\n",
    "\n",
    "La predicción consiste en, dada una nueva entrada (un nuevo dato) que no ha visto en el aprendizaje, calcular el valor de salida del modelo. En nuestro ejemplo, nos diría el género de una persona a partir de una imagen, o, dependiendo del modelo, también nos podría dar el grado de certeza (probabilidad) de la predicción.\n",
    "\n",
    "La predicción se utiliza además para evaluar el rendimiento de los modelos de aprendizaje automático. Normalmente, se divide un dataset etiquetado (aprendizaje supervisado) en datos de aprendizaje y datos de test. Esto permite evaluar el modelo con los datos de test, que no han sido usados para realizar el aprendizaje y así poder estimar su rendimiento ante nuevos datos."
   ]
  },
  {
   "cell_type": "markdown",
   "metadata": {},
   "source": [
    "## Ejercicios"
   ]
  },
  {
   "cell_type": "markdown",
   "metadata": {},
   "source": [
    "**¿Cuál de los siguientes problemas sería de aprendizaje supervisado?**\n",
    "\n",
    "1. Dado un dataset de emails etiquetados como spam / no spam, aprender un filtro de spam.\n",
    "1. Dados un conjunto de artículos encontrados en la web, agruparlos en conjuntos que cuentan la misma historia.\n",
    "1. Dada una base de datos de información sobre consumidores, agruparlos automáticamente en segmentos diferentes de mercado.\n",
    "1. Dada una base de datos de pacientes diagnosticados con diabetes o no, aprender a clasificar nuevos pacientes según si tienen diabetes o no.\n"
   ]
  },
  {
   "cell_type": "markdown",
   "metadata": {},
   "source": [
    "## Referencias\n",
    "\n",
    "<span id=\"fn1\"> </span>\n",
    "[1. Machine Learning - Tom Mitchell](http://www.cs.cmu.edu/~tom/mlbook.html)"
   ]
  }
 ],
 "metadata": {
  "kernelspec": {
   "display_name": "Python 3",
   "language": "python",
   "name": "python3"
  },
  "language_info": {
   "codemirror_mode": {
    "name": "ipython",
    "version": 3
   },
   "file_extension": ".py",
   "mimetype": "text/x-python",
   "name": "python",
   "nbconvert_exporter": "python",
   "pygments_lexer": "ipython3",
   "version": "3.7.3"
  },
  "widgets": {
   "application/vnd.jupyter.widget-state+json": {
    "state": {},
    "version_major": 2,
    "version_minor": 0
   }
  }
 },
 "nbformat": 4,
 "nbformat_minor": 4
}
